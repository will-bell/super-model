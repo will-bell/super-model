{
  "nbformat": 4,
  "nbformat_minor": 0,
  "metadata": {
    "colab": {
      "name": "twolink_manipulator.ipynb",
      "provenance": [],
      "collapsed_sections": []
    },
    "kernelspec": {
      "name": "python3",
      "display_name": "Python 3"
    },
    "accelerator": "GPU"
  },
  "cells": [
    {
      "cell_type": "code",
      "metadata": {
        "colab": {
          "base_uri": "https://localhost:8080/"
        },
        "id": "am90jtrYoLYa",
        "outputId": "eba3391c-4e35-4662-e262-5cfb4d0fc9d3"
      },
      "source": [
        "!rm -r super-model/\r\n",
        "!git clone https://github.com/will-bell/super-model.git"
      ],
      "execution_count": 1,
      "outputs": [
        {
          "output_type": "stream",
          "text": [
            "Cloning into 'super-model'...\n",
            "remote: Enumerating objects: 172, done.\u001b[K\n",
            "remote: Counting objects: 100% (172/172), done.\u001b[K\n",
            "remote: Compressing objects: 100% (118/118), done.\u001b[K\n",
            "remote: Total 172 (delta 103), reused 119 (delta 53), pack-reused 0\u001b[K\n",
            "Receiving objects: 100% (172/172), 30.18 KiB | 2.32 MiB/s, done.\n",
            "Resolving deltas: 100% (103/103), done.\n"
          ],
          "name": "stdout"
        }
      ]
    },
    {
      "cell_type": "code",
      "metadata": {
        "id": "mKpTr6kN0s5E"
      },
      "source": [
        "# !pip uninstall supermodel"
      ],
      "execution_count": 2,
      "outputs": []
    },
    {
      "cell_type": "code",
      "metadata": {
        "colab": {
          "base_uri": "https://localhost:8080/"
        },
        "id": "sK0yYx1urWLZ",
        "outputId": "8184c8ac-a455-404a-d0f8-3e142ed4e928"
      },
      "source": [
        "%cd super-model/\r\n",
        "!pip install .\r\n",
        "%cd .."
      ],
      "execution_count": 3,
      "outputs": [
        {
          "output_type": "stream",
          "text": [
            "/content/super-model\n",
            "Branch 'installable' set up to track remote branch 'installable' from 'origin'.\n",
            "Switched to a new branch 'installable'\n",
            "Processing /content/super-model\n",
            "Building wheels for collected packages: supermodel\n",
            "  Building wheel for supermodel (setup.py) ... \u001b[?25l\u001b[?25hdone\n",
            "  Created wheel for supermodel: filename=supermodel-0.0.0-cp36-none-any.whl size=7551 sha256=3b2edb860341229c38609bb96a62d5d085d681eedc4c68066ad767d45acc3aa2\n",
            "  Stored in directory: /root/.cache/pip/wheels/30/63/ac/2beefd2a71b2e7ef3089f7328076e5eded19354ccf3320e87d\n",
            "Successfully built supermodel\n",
            "Installing collected packages: supermodel\n",
            "  Found existing installation: supermodel 0.0.0\n",
            "    Uninstalling supermodel-0.0.0:\n",
            "      Successfully uninstalled supermodel-0.0.0\n",
            "Successfully installed supermodel-0.0.0\n",
            "/content\n"
          ],
          "name": "stdout"
        }
      ]
    },
    {
      "cell_type": "code",
      "metadata": {
        "id": "ZzXagsAArkCQ"
      },
      "source": [
        "from typing import Tuple, List, Union\r\n",
        "\r\n",
        "import numpy as np\r\n",
        "import torch\r\n",
        "\r\n",
        "import matplotlib.pyplot as plt\r\n",
        "from matplotlib.animation import FuncAnimation\r\n",
        "import pathlib\r\n",
        "\r\n",
        "from supermodel.learn_kinematics import backprop_clfcbf_control\r\n",
        "from supermodel.learn_kinematics import learn_kinematics\r\n",
        "from supermodel.potential import Potential\r\n",
        "from supermodel.sphere_obstacle import SphereObstacle\r\n",
        "from supermodel.stochastic_model import ModelEnsemble"
      ],
      "execution_count": 1,
      "outputs": []
    },
    {
      "cell_type": "code",
      "metadata": {
        "id": "QUn4Zyynru5J"
      },
      "source": [
        "class TwoLink:\r\n",
        "\r\n",
        "    link_lengths: Union[Tuple[float, float], None]\r\n",
        "\r\n",
        "    joint_angles: Union[Tuple[float, float], None]\r\n",
        "\r\n",
        "    joint1_position: Union[np.ndarray, None]\r\n",
        "\r\n",
        "    joint2_position: Union[np.ndarray, None]\r\n",
        "\r\n",
        "    end_position: Union[np.ndarray, None]\r\n",
        "\r\n",
        "    jacobian: Union[np.ndarray, None]\r\n",
        "\r\n",
        "    def __init__(self, link_lengths: Tuple[float, float], joint_angles: Tuple[float, float] = (0., 0.)):\r\n",
        "        self.link_lengths = link_lengths\r\n",
        "\r\n",
        "        # Initialize these attributes here to be clear (all attributes should be defined in __init__)\r\n",
        "        self.joint_angles = self.jacobian = None\r\n",
        "        self.end_position = self.joint1_position = self.joint2_position = np.array([[0., 0.]])\r\n",
        "\r\n",
        "        # Assign the missing parameters their values using forward kinematics\r\n",
        "        self.update_joints(joint_angles)\r\n",
        "\r\n",
        "    def update_joints(self, joint_angles: Tuple[float, float]):\r\n",
        "        self.joint_angles = joint_angles\r\n",
        "        self.joint2_position, self.end_position, self.jacobian = self._forward_kinematics(np.array(joint_angles))\r\n",
        "\r\n",
        "    def _forward_kinematics(self, joint_angles: np.ndarray) -> Tuple[np.ndarray, np.ndarray, np.ndarray]:\r\n",
        "        if len(joint_angles.shape) < 2:\r\n",
        "            joint_angles = joint_angles[np.newaxis]\r\n",
        "        theta1, theta2 = joint_angles[:, 0], joint_angles[:, 1]\r\n",
        "        l1, l2 = self.link_lengths\r\n",
        "\r\n",
        "        # Calculate the trig values for more concise code\r\n",
        "        s1 = np.sin(theta1)[np.newaxis].T\r\n",
        "        s12 = np.sin(theta1 + theta2)[np.newaxis].T\r\n",
        "        c1 = np.cos(theta1)[np.newaxis].T\r\n",
        "        c12 = np.cos(theta1 + theta2)[np.newaxis].T\r\n",
        "\r\n",
        "        joint2_position = self.joint1_position + np.hstack([l1*c1, l1*s1])\r\n",
        "        end_position = joint2_position + np.hstack([l2*c12, l2*s12])\r\n",
        "\r\n",
        "        # Construct the Jacobian matrix\r\n",
        "        jacobian = np.array([[-l2 * s12 - l1 * s1, -l2 * s12], [l2 * c12 + l1 * c1, l2 * c12]]).squeeze()\r\n",
        "\r\n",
        "        return joint2_position, end_position, jacobian\r\n",
        "\r\n",
        "    def forward_kinematics(self, joint_angles: Tuple[float, float]) -> Tuple[np.ndarray, np.ndarray]:\r\n",
        "        _, end_position, jacobian = self._forward_kinematics(np.array(joint_angles))\r\n",
        "\r\n",
        "        return end_position, jacobian\r\n",
        "\r\n",
        "    def forward_kinematics2(self, joint_angles: np.ndarray) -> np.ndarray:\r\n",
        "        _, end_position, _ = self._forward_kinematics(joint_angles)\r\n",
        "\r\n",
        "        return end_position\r\n",
        "\r\n",
        "    def plot(self, ax=None):\r\n",
        "        if ax is None:\r\n",
        "            fig, ax = plt.subplots()\r\n",
        "            arm_length = self.link_lengths[0] + self.link_lengths[1]\r\n",
        "            ax.set_xlim([-arm_length, arm_length])\r\n",
        "            ax.set_ylim([-arm_length, arm_length])\r\n",
        "            ax.set_aspect('equal', 'box')\r\n",
        "\r\n",
        "        ax.plot([self.joint1_position[:, 0], self.joint2_position[:, 0]],\r\n",
        "                [self.joint1_position[:, 1], self.joint2_position[:, 1]], 'r-')\r\n",
        "        \r\n",
        "        ax.plot([self.joint2_position[:, 0], self.end_position[:, 0]],\r\n",
        "                [self.joint2_position[:, 1], self.end_position[:, 1]], 'r-')\r\n",
        "        \r\n",
        "        ax.plot(self.joint1_position[:, 0], self.joint1_position[:, 1], 'ko')\r\n",
        "        ax.plot(self.joint2_position[:, 0], self.joint2_position[:, 1], 'ko')\r\n",
        "        ax.plot(self.end_position[:, 0], self.end_position[:, 1], 'ko')"
      ],
      "execution_count": 2,
      "outputs": []
    },
    {
      "cell_type": "code",
      "metadata": {
        "id": "Ie1vsPJ-tHT5"
      },
      "source": [
        "def torus_grid(delta: float) -> np.ndarray:\r\n",
        "    x_range = np.arange(0., 2 * np.pi, delta)\r\n",
        "    y_range = np.arange(0., 2 * np.pi, delta)\r\n",
        "    xx, yy = np.meshgrid(x_range, y_range)\r\n",
        "    configurations = np.vstack([xx.ravel(), yy.ravel()]).T\r\n",
        "    configurations = (configurations + np.random.uniform(-delta / 4., delta / 4., configurations.shape)) % (2 * np.pi)\r\n",
        "\r\n",
        "    return configurations"
      ],
      "execution_count": 3,
      "outputs": []
    },
    {
      "cell_type": "code",
      "metadata": {
        "id": "I6DRNYgvtTOH"
      },
      "source": [
        "def twolink_forward_kinematics(joint_angles: np.ndarray) -> np.ndarray:\r\n",
        "    theta1, theta2 = joint_angles[:, 0], joint_angles[:, 1]\r\n",
        "    l1, l2 = 1, 1\r\n",
        "\r\n",
        "    # Calculate the trig values for more concise code\r\n",
        "    s1 = np.sin(theta1)\r\n",
        "    s12 = np.sin(theta1 + theta2)\r\n",
        "    c1 = np.cos(theta1)\r\n",
        "    c12 = np.cos(theta1 + theta2)\r\n",
        "\r\n",
        "    joint_position = np.vstack([l1*c1, l1*s1]).T\r\n",
        "    end_position = joint_position + np.vstack([l2 * c12, l2 * s12]).T\r\n",
        "\r\n",
        "    return end_position"
      ],
      "execution_count": 4,
      "outputs": []
    },
    {
      "cell_type": "code",
      "metadata": {
        "colab": {
          "base_uri": "https://localhost:8080/"
        },
        "id": "pJLwfQl3thSI",
        "outputId": "94c5318b-bd11-4461-db36-08bc9fb4688e"
      },
      "source": [
        "model_dir = pathlib.Path('./models')\r\n",
        "model_path = model_dir / 'twolink_test'\r\n",
        "\r\n",
        "torus_configurations = torus_grid(.02)\r\n",
        "model_ensemble = ModelEnsemble(100, 2, 2, [512, 512])\r\n",
        "model_ensemble, loss_history = learn_kinematics(model_ensemble, twolink_forward_kinematics, torus_configurations,\r\n",
        "                                                lr=1e-3, train_batch_size=200, valid_batch_size=100, n_epochs=5, \r\n",
        "                                                log_period=20, l2_reg=.0001)"
      ],
      "execution_count": 5,
      "outputs": [
        {
          "output_type": "stream",
          "text": [
            "Using device: cuda\n",
            "Tesla V100-SXM2-16GB\n",
            "Memory Usage:\n",
            "Allocated: 101.2 MB\n",
            "Cached:    102.0 MB\n",
            "Epoch = 1, Total Updates = 0, Mean loss = 2.3312675952911377\n",
            "Epoch = 1, Total Updates = 20, Mean loss = 0.6673605442047119\n",
            "Epoch = 1, Total Updates = 40, Mean loss = 0.5046539902687073\n",
            "Epoch = 1, Total Updates = 60, Mean loss = 0.4087521731853485\n",
            "Epoch = 1, Total Updates = 80, Mean loss = 0.34376174211502075\n",
            "Epoch = 1, Total Updates = 100, Mean loss = 0.2980579435825348\n",
            "Epoch = 1, Total Updates = 120, Mean loss = 0.25981149077415466\n",
            "Epoch = 1, Total Updates = 140, Mean loss = 0.24201738834381104\n",
            "Epoch = 1, Total Updates = 160, Mean loss = 0.20165683329105377\n",
            "Epoch = 1, Total Updates = 180, Mean loss = 0.1760735809803009\n",
            "Epoch = 1, Total Updates = 200, Mean loss = 0.1606559306383133\n",
            "Epoch = 1, Total Updates = 220, Mean loss = 0.1538277417421341\n",
            "Epoch = 1, Total Updates = 240, Mean loss = 0.14234618842601776\n",
            "Epoch = 1, Total Updates = 260, Mean loss = 0.11898252367973328\n",
            "Epoch = 1, Total Updates = 280, Mean loss = 0.10356289893388748\n",
            "Epoch = 1, Total Updates = 300, Mean loss = 0.09924385696649551\n",
            "Epoch = 1, Total Updates = 320, Mean loss = 0.08478272706270218\n",
            "Epoch = 1, Total Updates = 340, Mean loss = 0.07353567332029343\n",
            "Epoch = 1, Total Updates = 360, Mean loss = 0.07360927015542984\n",
            "Epoch = 1, Total Updates = 380, Mean loss = 0.061830874532461166\n",
            "Epoch = 2, Total Updates = 397, Mean loss = 0.05774608999490738\n",
            "Epoch = 2, Total Updates = 417, Mean loss = 0.05801231414079666\n",
            "Epoch = 2, Total Updates = 437, Mean loss = 0.04658626765012741\n",
            "Epoch = 2, Total Updates = 457, Mean loss = 0.04598356410861015\n",
            "Epoch = 2, Total Updates = 477, Mean loss = 0.04964620620012283\n",
            "Epoch = 2, Total Updates = 497, Mean loss = 0.04741029068827629\n",
            "Epoch = 2, Total Updates = 517, Mean loss = 0.03955372795462608\n",
            "Epoch = 2, Total Updates = 537, Mean loss = 0.03887004777789116\n",
            "Epoch = 2, Total Updates = 557, Mean loss = 0.028153371065855026\n",
            "Epoch = 2, Total Updates = 577, Mean loss = 0.028051408007740974\n",
            "Epoch = 2, Total Updates = 597, Mean loss = 0.026044299826025963\n",
            "Epoch = 2, Total Updates = 617, Mean loss = 0.02954661101102829\n",
            "Epoch = 2, Total Updates = 637, Mean loss = 0.025093447417020798\n",
            "Epoch = 2, Total Updates = 657, Mean loss = 0.024289801716804504\n",
            "Epoch = 2, Total Updates = 677, Mean loss = 0.023277392610907555\n",
            "Epoch = 2, Total Updates = 697, Mean loss = 0.023488113656640053\n",
            "Epoch = 2, Total Updates = 717, Mean loss = 0.01961158961057663\n",
            "Epoch = 2, Total Updates = 737, Mean loss = 0.018445530906319618\n",
            "Epoch = 2, Total Updates = 757, Mean loss = 0.017376940697431564\n",
            "Epoch = 2, Total Updates = 777, Mean loss = 0.02102397009730339\n",
            "Epoch = 3, Total Updates = 794, Mean loss = 0.019290458410978317\n",
            "Epoch = 3, Total Updates = 814, Mean loss = 0.015766888856887817\n",
            "Epoch = 3, Total Updates = 834, Mean loss = 0.016586847603321075\n",
            "Epoch = 3, Total Updates = 854, Mean loss = 0.015659593045711517\n",
            "Epoch = 3, Total Updates = 874, Mean loss = 0.012619960121810436\n",
            "Epoch = 3, Total Updates = 894, Mean loss = 0.0176381915807724\n",
            "Epoch = 3, Total Updates = 914, Mean loss = 0.014188227243721485\n",
            "Epoch = 3, Total Updates = 934, Mean loss = 0.012130426242947578\n",
            "Epoch = 3, Total Updates = 954, Mean loss = 0.01453311461955309\n",
            "Epoch = 3, Total Updates = 974, Mean loss = 0.015168602578341961\n",
            "Epoch = 3, Total Updates = 994, Mean loss = 0.011958607472479343\n",
            "Epoch = 3, Total Updates = 1014, Mean loss = 0.011890068650245667\n",
            "Epoch = 3, Total Updates = 1034, Mean loss = 0.01269384752959013\n",
            "Epoch = 3, Total Updates = 1054, Mean loss = 0.010057921521365643\n",
            "Epoch = 3, Total Updates = 1074, Mean loss = 0.010799827054142952\n",
            "Epoch = 3, Total Updates = 1094, Mean loss = 0.00722324475646019\n",
            "Epoch = 3, Total Updates = 1114, Mean loss = 0.007987613789737225\n",
            "Epoch = 3, Total Updates = 1134, Mean loss = 0.007538958918303251\n",
            "Epoch = 3, Total Updates = 1154, Mean loss = 0.007893858477473259\n",
            "Epoch = 3, Total Updates = 1174, Mean loss = 0.007935050874948502\n",
            "Epoch = 4, Total Updates = 1191, Mean loss = 0.007182823959738016\n",
            "Epoch = 4, Total Updates = 1211, Mean loss = 0.008646567352116108\n",
            "Epoch = 4, Total Updates = 1231, Mean loss = 0.009233338758349419\n",
            "Epoch = 4, Total Updates = 1251, Mean loss = 0.007807143963873386\n",
            "Epoch = 4, Total Updates = 1271, Mean loss = 0.007934710010886192\n",
            "Epoch = 4, Total Updates = 1291, Mean loss = 0.008249867707490921\n",
            "Epoch = 4, Total Updates = 1311, Mean loss = 0.00671093026176095\n",
            "Epoch = 4, Total Updates = 1331, Mean loss = 0.006330929696559906\n",
            "Epoch = 4, Total Updates = 1351, Mean loss = 0.010029133409261703\n",
            "Epoch = 4, Total Updates = 1371, Mean loss = 0.008051532320678234\n",
            "Epoch = 4, Total Updates = 1391, Mean loss = 0.00659940904006362\n",
            "Epoch = 4, Total Updates = 1411, Mean loss = 0.005560601130127907\n",
            "Epoch = 4, Total Updates = 1431, Mean loss = 0.006711802911013365\n",
            "Epoch = 4, Total Updates = 1451, Mean loss = 0.007034026086330414\n",
            "Epoch = 4, Total Updates = 1471, Mean loss = 0.006636690814048052\n",
            "Epoch = 4, Total Updates = 1491, Mean loss = 0.004800888244062662\n",
            "Epoch = 4, Total Updates = 1511, Mean loss = 0.00460784463211894\n",
            "Epoch = 4, Total Updates = 1531, Mean loss = 0.009933928027749062\n",
            "Epoch = 4, Total Updates = 1551, Mean loss = 0.008434348739683628\n",
            "Epoch = 4, Total Updates = 1571, Mean loss = 0.005518223624676466\n",
            "Epoch = 5, Total Updates = 1588, Mean loss = 0.0070879459381103516\n",
            "Epoch = 5, Total Updates = 1608, Mean loss = 0.006637378130108118\n",
            "Epoch = 5, Total Updates = 1628, Mean loss = 0.006011185236275196\n",
            "Epoch = 5, Total Updates = 1648, Mean loss = 0.0064466106705367565\n",
            "Epoch = 5, Total Updates = 1668, Mean loss = 0.004094649106264114\n",
            "Epoch = 5, Total Updates = 1688, Mean loss = 0.005114069674164057\n",
            "Epoch = 5, Total Updates = 1708, Mean loss = 0.004819163586944342\n",
            "Epoch = 5, Total Updates = 1728, Mean loss = 0.0031856915447860956\n",
            "Epoch = 5, Total Updates = 1748, Mean loss = 0.004059229511767626\n",
            "Epoch = 5, Total Updates = 1768, Mean loss = 0.0037576653994619846\n",
            "Epoch = 5, Total Updates = 1788, Mean loss = 0.005469535011798143\n",
            "Epoch = 5, Total Updates = 1808, Mean loss = 0.006086758803576231\n",
            "Epoch = 5, Total Updates = 1828, Mean loss = 0.004786375910043716\n",
            "Epoch = 5, Total Updates = 1848, Mean loss = 0.0036382998805493116\n",
            "Epoch = 5, Total Updates = 1868, Mean loss = 0.0050650774501264095\n",
            "Epoch = 5, Total Updates = 1888, Mean loss = 0.0037491056136786938\n",
            "Epoch = 5, Total Updates = 1908, Mean loss = 0.006305350922048092\n",
            "Epoch = 5, Total Updates = 1928, Mean loss = 0.003906431142240763\n",
            "Epoch = 5, Total Updates = 1948, Mean loss = 0.004805129487067461\n",
            "Epoch = 5, Total Updates = 1968, Mean loss = 0.008073384873569012\n"
          ],
          "name": "stdout"
        }
      ]
    },
    {
      "cell_type": "code",
      "metadata": {
        "id": "l9vWa1o9Izbm"
      },
      "source": [
        "!rm -r models/"
      ],
      "execution_count": 13,
      "outputs": []
    },
    {
      "cell_type": "code",
      "metadata": {
        "id": "ftBaGfSvPs6d"
      },
      "source": [
        "!rm twolink_test.zip"
      ],
      "execution_count": 8,
      "outputs": []
    },
    {
      "cell_type": "code",
      "metadata": {
        "id": "6rQrCIly3V-L"
      },
      "source": [
        "model_ensemble.save(model_path)"
      ],
      "execution_count": 7,
      "outputs": []
    },
    {
      "cell_type": "code",
      "metadata": {
        "colab": {
          "base_uri": "https://localhost:8080/",
          "height": 279
        },
        "id": "zYZCwikF3ERk",
        "outputId": "b0edfa32-d932-43d0-80c5-cf6db1f914e2"
      },
      "source": [
        "plt.plot(loss_history[:, 0], loss_history[:, 1], '-b')\r\n",
        "plt.xlabel('n updates')\r\n",
        "plt.ylabel('loss')\r\n",
        "plt.show()"
      ],
      "execution_count": 6,
      "outputs": [
        {
          "output_type": "display_data",
          "data": {
            "image/png": "[encoded data removed]",
            "text/plain": [
              "<Figure size 432x288 with 1 Axes>"
            ]
          },
          "metadata": {
            "tags": [],
            "needs_background": "light"
          }
        }
      ]
    },
    {
      "cell_type": "code",
      "metadata": {
        "colab": {
          "base_uri": "https://localhost:8080/"
        },
        "id": "YIXCyJSfC5Qf",
        "outputId": "3ba3b555-c005-443e-cd63-b7c3219d753b"
      },
      "source": [
        "!zip -r /content/twolink_test.zip /content/models/twolink_test"
      ],
      "execution_count": 9,
      "outputs": [
        {
          "output_type": "stream",
          "text": [
            "  adding: content/models/twolink_test/ (stored 0%)\n",
            "  adding: content/models/twolink_test/model-13.pt (deflated 6%)\n",
            "  adding: content/models/twolink_test/model-68.pt (deflated 6%)\n",
            "  adding: content/models/twolink_test/model-64.pt (deflated 6%)\n",
            "  adding: content/models/twolink_test/model-94.pt (deflated 6%)\n",
            "  adding: content/models/twolink_test/model-91.pt (deflated 6%)\n",
            "  adding: content/models/twolink_test/model-62.pt (deflated 6%)\n",
            "  adding: content/models/twolink_test/model-72.pt (deflated 6%)\n",
            "  adding: content/models/twolink_test/model-22.pt (deflated 6%)\n",
            "  adding: content/models/twolink_test/model-60.pt (deflated 6%)\n",
            "  adding: content/models/twolink_test/model-90.pt (deflated 6%)\n",
            "  adding: content/models/twolink_test/model-31.pt (deflated 6%)\n",
            "  adding: content/models/twolink_test/model-95.pt (deflated 6%)\n",
            "  adding: content/models/twolink_test/model-43.pt (deflated 6%)\n",
            "  adding: content/models/twolink_test/model-47.pt (deflated 6%)\n",
            "  adding: content/models/twolink_test/model-85.pt (deflated 6%)\n",
            "  adding: content/models/twolink_test/model-79.pt (deflated 7%)\n",
            "  adding: content/models/twolink_test/model-71.pt (deflated 7%)\n",
            "  adding: content/models/twolink_test/model-39.pt (deflated 6%)\n",
            "  adding: content/models/twolink_test/model-63.pt (deflated 7%)\n",
            "  adding: content/models/twolink_test/model-30.pt (deflated 6%)\n",
            "  adding: content/models/twolink_test/model-20.pt (deflated 6%)\n",
            "  adding: content/models/twolink_test/model-73.pt (deflated 6%)\n",
            "  adding: content/models/twolink_test/model-97.pt (deflated 6%)\n",
            "  adding: content/models/twolink_test/model-11.pt (deflated 6%)\n",
            "  adding: content/models/twolink_test/model-58.pt (deflated 6%)\n",
            "  adding: content/models/twolink_test/model-15.pt (deflated 6%)\n",
            "  adding: content/models/twolink_test/model-46.pt (deflated 6%)\n",
            "  adding: content/models/twolink_test/model-70.pt (deflated 6%)\n",
            "  adding: content/models/twolink_test/model-50.pt (deflated 6%)\n",
            "  adding: content/models/twolink_test/model-32.pt (deflated 6%)\n",
            "  adding: content/models/twolink_test/model-48.pt (deflated 6%)\n",
            "  adding: content/models/twolink_test/model-78.pt (deflated 6%)\n",
            "  adding: content/models/twolink_test/model-26.pt (deflated 6%)\n",
            "  adding: content/models/twolink_test/model-86.pt (deflated 6%)\n",
            "  adding: content/models/twolink_test/model-9.pt (deflated 6%)\n",
            "  adding: content/models/twolink_test/model-89.pt (deflated 6%)\n",
            "  adding: content/models/twolink_test/model-83.pt (deflated 6%)\n",
            "  adding: content/models/twolink_test/model-4.pt (deflated 6%)\n",
            "  adding: content/models/twolink_test/model-36.pt (deflated 6%)\n",
            "  adding: content/models/twolink_test/model-44.pt (deflated 6%)\n",
            "  adding: content/models/twolink_test/model-57.pt (deflated 6%)\n",
            "  adding: content/models/twolink_test/model-2.pt (deflated 6%)\n",
            "  adding: content/models/twolink_test/model-21.pt (deflated 7%)\n",
            "  adding: content/models/twolink_test/model-1.pt (deflated 6%)\n",
            "  adding: content/models/twolink_test/model-38.pt (deflated 6%)\n",
            "  adding: content/models/twolink_test/model-80.pt (deflated 6%)\n",
            "  adding: content/models/twolink_test/model-92.pt (deflated 6%)\n",
            "  adding: content/models/twolink_test/model-45.pt (deflated 6%)\n",
            "  adding: content/models/twolink_test/model-17.pt (deflated 6%)\n",
            "  adding: content/models/twolink_test/model-69.pt (deflated 6%)\n",
            "  adding: content/models/twolink_test/model-25.pt (deflated 6%)\n",
            "  adding: content/models/twolink_test/model-96.pt (deflated 6%)\n",
            "  adding: content/models/twolink_test/model-29.pt (deflated 6%)\n",
            "  adding: content/models/twolink_test/model-93.pt (deflated 6%)\n",
            "  adding: content/models/twolink_test/model-61.pt (deflated 6%)\n",
            "  adding: content/models/twolink_test/model-81.pt (deflated 6%)\n",
            "  adding: content/models/twolink_test/model-66.pt (deflated 6%)\n",
            "  adding: content/models/twolink_test/model-84.pt (deflated 7%)\n",
            "  adding: content/models/twolink_test/model-3.pt (deflated 7%)\n",
            "  adding: content/models/twolink_test/model-5.pt (deflated 6%)\n",
            "  adding: content/models/twolink_test/model-52.pt (deflated 6%)\n",
            "  adding: content/models/twolink_test/model-12.pt (deflated 7%)\n",
            "  adding: content/models/twolink_test/model-10.pt (deflated 6%)\n",
            "  adding: content/models/twolink_test/model-49.pt (deflated 7%)\n",
            "  adding: content/models/twolink_test/model-24.pt (deflated 6%)\n",
            "  adding: content/models/twolink_test/model-0.pt (deflated 7%)\n",
            "  adding: content/models/twolink_test/model-74.pt (deflated 6%)\n",
            "  adding: content/models/twolink_test/model-19.pt (deflated 6%)\n",
            "  adding: content/models/twolink_test/model-33.pt (deflated 6%)\n",
            "  adding: content/models/twolink_test/model-54.pt (deflated 6%)\n",
            "  adding: content/models/twolink_test/model-28.pt (deflated 6%)\n",
            "  adding: content/models/twolink_test/model-7.pt (deflated 6%)\n",
            "  adding: content/models/twolink_test/model-14.pt (deflated 6%)\n",
            "  adding: content/models/twolink_test/model-59.pt (deflated 7%)\n",
            "  adding: content/models/twolink_test/model-55.pt (deflated 6%)\n",
            "  adding: content/models/twolink_test/model-77.pt (deflated 6%)\n",
            "  adding: content/models/twolink_test/model-67.pt (deflated 6%)\n",
            "  adding: content/models/twolink_test/model-75.pt (deflated 6%)\n",
            "  adding: content/models/twolink_test/model-40.pt (deflated 6%)\n",
            "  adding: content/models/twolink_test/model-41.pt (deflated 6%)\n",
            "  adding: content/models/twolink_test/model-99.pt (deflated 6%)\n",
            "  adding: content/models/twolink_test/model-51.pt (deflated 6%)\n",
            "  adding: content/models/twolink_test/model-16.pt (deflated 6%)\n",
            "  adding: content/models/twolink_test/model-8.pt (deflated 6%)\n",
            "  adding: content/models/twolink_test/model-76.pt (deflated 6%)\n",
            "  adding: content/models/twolink_test/model-27.pt (deflated 6%)\n",
            "  adding: content/models/twolink_test/model-23.pt (deflated 6%)\n",
            "  adding: content/models/twolink_test/model-6.pt (deflated 6%)\n",
            "  adding: content/models/twolink_test/model-56.pt (deflated 6%)\n",
            "  adding: content/models/twolink_test/model-18.pt (deflated 6%)\n",
            "  adding: content/models/twolink_test/model-82.pt (deflated 7%)\n",
            "  adding: content/models/twolink_test/model-98.pt (deflated 6%)\n",
            "  adding: content/models/twolink_test/model-34.pt (deflated 6%)\n",
            "  adding: content/models/twolink_test/model-53.pt (deflated 7%)\n",
            "  adding: content/models/twolink_test/model-87.pt (deflated 6%)\n",
            "  adding: content/models/twolink_test/model-37.pt (deflated 6%)\n",
            "  adding: content/models/twolink_test/model-88.pt (deflated 6%)\n",
            "  adding: content/models/twolink_test/model-42.pt (deflated 6%)\n",
            "  adding: content/models/twolink_test/model-35.pt (deflated 6%)\n",
            "  adding: content/models/twolink_test/model-65.pt (deflated 6%)\n"
          ],
          "name": "stdout"
        }
      ]
    },
    {
      "cell_type": "code",
      "metadata": {
        "colab": {
          "base_uri": "https://localhost:8080/",
          "height": 17
        },
        "id": "jxt0ebWK9dDc",
        "outputId": "6cbd39cd-dfdc-49d9-b2ce-42fc7f6c30e8"
      },
      "source": [
        "from google.colab import files\r\n",
        "files.download(\"/content/twolink_test.zip\")"
      ],
      "execution_count": 10,
      "outputs": [
        {
          "output_type": "display_data",
          "data": {
            "application/javascript": [
              "\n",
              "    async function download(id, filename, size) {\n",
              "      if (!google.colab.kernel.accessAllowed) {\n",
              "        return;\n",
              "      }\n",
              "      const div = document.createElement('div');\n",
              "      const label = document.createElement('label');\n",
              "      label.textContent = `Downloading \"${filename}\": `;\n",
              "      div.appendChild(label);\n",
              "      const progress = document.createElement('progress');\n",
              "      progress.max = size;\n",
              "      div.appendChild(progress);\n",
              "      document.body.appendChild(div);\n",
              "\n",
              "      const buffers = [];\n",
              "      let downloaded = 0;\n",
              "\n",
              "      const channel = await google.colab.kernel.comms.open(id);\n",
              "      // Send a message to notify the kernel that we're ready.\n",
              "      channel.send({})\n",
              "\n",
              "      for await (const message of channel.messages) {\n",
              "        // Send a message to notify the kernel that we're ready.\n",
              "        channel.send({})\n",
              "        if (message.buffers) {\n",
              "          for (const buffer of message.buffers) {\n",
              "            buffers.push(buffer);\n",
              "            downloaded += buffer.byteLength;\n",
              "            progress.value = downloaded;\n",
              "          }\n",
              "        }\n",
              "      }\n",
              "      const blob = new Blob(buffers, {type: 'application/binary'});\n",
              "      const a = document.createElement('a');\n",
              "      a.href = window.URL.createObjectURL(blob);\n",
              "      a.download = filename;\n",
              "      div.appendChild(a);\n",
              "      a.click();\n",
              "      div.remove();\n",
              "    }\n",
              "  "
            ],
            "text/plain": [
              "<IPython.core.display.Javascript object>"
            ]
          },
          "metadata": {
            "tags": []
          }
        },
        {
          "output_type": "display_data",
          "data": {
            "application/javascript": [
              "download(\"download_f52ee0ef-1ebb-4f60-89fa-b9d92c10248d\", \"twolink_test.zip\", 99697136)"
            ],
            "text/plain": [
              "<IPython.core.display.Javascript object>"
            ]
          },
          "metadata": {
            "tags": []
          }
        }
      ]
    },
    {
      "cell_type": "code",
      "metadata": {
        "id": "fWgoVXAc9mGo"
      },
      "source": [
        "import pandas"
      ],
      "execution_count": 11,
      "outputs": []
    },
    {
      "cell_type": "code",
      "metadata": {
        "id": "0beFYOouRPuo"
      },
      "source": [
        "pandas.DataFrame(loss_history).to_csv('twolink_loss_history.csv')"
      ],
      "execution_count": 13,
      "outputs": []
    }
  ]
}